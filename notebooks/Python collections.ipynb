{
 "metadata": {
  "name": "Python collections"
 },
 "nbformat": 3,
 "nbformat_minor": 0,
 "worksheets": [
  {
   "cells": [
    {
     "cell_type": "markdown",
     "metadata": {},
     "source": [
      "The Collections module implements specialized container datatypes providing alternatives to Python\u2019s general purpose built-in containers, dict, list, set, and tuple."
     ]
    },
    {
     "cell_type": "markdown",
     "metadata": {},
     "source": [
      "<code><pre>collections.deque([iterable[, maxlen]])</pre></code>\n",
      "Returns a new deque object initialized left-to-right (using append()) with data from iterable. If iterable is not specified, the new deque is empty.\n",
      "\n",
      "Deques are a generalization of stacks and queues (the name is pronounced \u201cdeck\u201d and is short for \u201cdouble-ended queue\u201d). Deques support thread-safe, memory efficient appends and pops from either side of the deque with approximately the same O(1) performance in either direction.\n",
      "\n",
      "Though list objects support similar operations, they are optimized for fast fixed-length operations and incur O(n) memory movement costs for pop(0) and insert(0, v) operations which change both the size and position of the underlying data representation."
     ]
    },
    {
     "cell_type": "code",
     "collapsed": false,
     "input": [
      "append(x)\n",
      "    Add x to the right side of the deque.\n",
      "\n",
      "appendleft(x)\n",
      "    Add x to the left side of the deque.\n",
      "\n",
      "clear()\n",
      "    Remove all elements from the deque leaving it with length 0.\n",
      "\n",
      "count(x)\n",
      "    Count the number of deque elements equal to x.\n",
      "\n",
      "extend(iterable)\n",
      "    Extend the right side of the deque by appending elements from the iterable argument.\n",
      "\n",
      "extendleft(iterable)\n",
      "    Extend the left side of the deque by appending elements from iterable. Note, the series of left appends results in reversing the order of elements in the iterable argument.\n",
      "\n",
      "pop()\n",
      "    Remove and return an element from the right side of the deque. If no elements are present, raises an IndexError.\n",
      "\n",
      "popleft()\n",
      "    Remove and return an element from the left side of the deque. If no elements are present, raises an IndexError.\n",
      "\n",
      "remove(value)\n",
      "    Removed the first occurrence of value. If not found, raises a ValueError.\n",
      "\n",
      "New in version 2.5.\n",
      "\n",
      "reverse()\n",
      "    Reverse the elements of the deque in-place and then return None.\n",
      "\n",
      "rotate(n)\n",
      "    Rotate the deque n steps to the right. If n is negative, rotate to the left. Rotating one step to the right is equivalent to: d.appendleft(d.pop()).\n",
      "\n",
      "Deque objects also provide one read-only attribute:\n",
      "\n",
      "maxlen\n",
      "    Maximum size of a deque or None if unbounded."
     ],
     "language": "python",
     "metadata": {},
     "outputs": []
    },
    {
     "cell_type": "code",
     "collapsed": false,
     "input": [
      "from collections import deque\n",
      "d = deque('ghi')                 # make a new deque with three items\n",
      "for elem in d:                   # iterate over the deque's elements\n",
      "    print elem.upper()"
     ],
     "language": "python",
     "metadata": {},
     "outputs": []
    },
    {
     "cell_type": "code",
     "collapsed": false,
     "input": [
      "d.append('j')                    # add a new entry to the right side"
     ],
     "language": "python",
     "metadata": {},
     "outputs": []
    },
    {
     "cell_type": "code",
     "collapsed": false,
     "input": [
      "d.appendleft('f')                # add a new entry to the left side"
     ],
     "language": "python",
     "metadata": {},
     "outputs": []
    },
    {
     "cell_type": "code",
     "collapsed": false,
     "input": [
      "d                                # show the representation of the deque"
     ],
     "language": "python",
     "metadata": {},
     "outputs": []
    },
    {
     "cell_type": "code",
     "collapsed": false,
     "input": [
      "d.pop()                          # return and remove the rightmost item"
     ],
     "language": "python",
     "metadata": {},
     "outputs": []
    },
    {
     "cell_type": "code",
     "collapsed": false,
     "input": [
      "d.popleft()                      # return and remove the leftmost item"
     ],
     "language": "python",
     "metadata": {},
     "outputs": []
    },
    {
     "cell_type": "code",
     "collapsed": false,
     "input": [
      "list(d)                          # list the contents of the deque"
     ],
     "language": "python",
     "metadata": {},
     "outputs": []
    },
    {
     "cell_type": "code",
     "collapsed": false,
     "input": [
      "d[0]                             # peek at leftmost item"
     ],
     "language": "python",
     "metadata": {},
     "outputs": []
    },
    {
     "cell_type": "code",
     "collapsed": false,
     "input": [
      "d[-1]                            # peek at rightmost item"
     ],
     "language": "python",
     "metadata": {},
     "outputs": []
    },
    {
     "cell_type": "code",
     "collapsed": false,
     "input": [
      "list(reversed(d))                # list the contents of a deque in reverse"
     ],
     "language": "python",
     "metadata": {},
     "outputs": []
    },
    {
     "cell_type": "code",
     "collapsed": false,
     "input": [
      "'h' in d                         # search the deque"
     ],
     "language": "python",
     "metadata": {},
     "outputs": []
    },
    {
     "cell_type": "code",
     "collapsed": false,
     "input": [
      "d.extend('jkl')                  # add multiple elements at once"
     ],
     "language": "python",
     "metadata": {},
     "outputs": []
    },
    {
     "cell_type": "code",
     "collapsed": false,
     "input": [
      "d.rotate(1)                      # right rotation"
     ],
     "language": "python",
     "metadata": {},
     "outputs": []
    },
    {
     "cell_type": "code",
     "collapsed": false,
     "input": [
      "d.rotate(-1)                     # left rotation"
     ],
     "language": "python",
     "metadata": {},
     "outputs": []
    },
    {
     "cell_type": "code",
     "collapsed": false,
     "input": [
      "deque(reversed(d))               # make a new deque in reverse order"
     ],
     "language": "python",
     "metadata": {},
     "outputs": []
    },
    {
     "cell_type": "code",
     "collapsed": false,
     "input": [
      "d.clear()                        # empty the deque"
     ],
     "language": "python",
     "metadata": {},
     "outputs": []
    },
    {
     "cell_type": "code",
     "collapsed": false,
     "input": [
      "d.pop()                          # cannot pop from an empty deque"
     ],
     "language": "python",
     "metadata": {},
     "outputs": []
    },
    {
     "cell_type": "code",
     "collapsed": false,
     "input": [
      "d.extendleft('abc')              # extendleft() reverses the input order"
     ],
     "language": "python",
     "metadata": {},
     "outputs": []
    }
   ],
   "metadata": {}
  }
 ]
}